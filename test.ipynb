{
 "cells": [
  {
   "cell_type": "code",
   "execution_count": 14,
   "metadata": {},
   "outputs": [
    {
     "name": "stdout",
     "output_type": "stream",
     "text": [
      "                datetime  machineID failure\n",
      "0    2015-01-05 06:00:00          1   comp4\n",
      "1    2015-03-06 06:00:00          1   comp1\n",
      "2    2015-04-20 06:00:00          1   comp2\n",
      "3    2015-06-19 06:00:00          1   comp4\n",
      "4    2015-09-02 06:00:00          1   comp4\n",
      "..                   ...        ...     ...\n",
      "756  2015-11-29 06:00:00         99   comp3\n",
      "757  2015-12-14 06:00:00         99   comp4\n",
      "758  2015-02-12 06:00:00        100   comp1\n",
      "759  2015-09-10 06:00:00        100   comp1\n",
      "760  2015-12-09 06:00:00        100   comp2\n",
      "\n",
      "[761 rows x 3 columns]\n"
     ]
    }
   ],
   "source": [
    "import os\n",
    "import pandas as pd\n",
    "\n",
    "WORKING_DIR = \"D:/CODE/Python/\"\n",
    "\n",
    "# df_tele = pd.read_csv('PdM_telemetry.csv')\n",
    "df_fail = pd.read_csv('PdM_failures.csv')\n",
    "# df_err = pd.read_csv('PdM_errors.csv')\n",
    "# df_maint = pd.read_csv('PdM_maint.csv')\n",
    "print(df_fail)\n",
    "\n",
    "\n"
   ]
  },
  {
   "cell_type": "code",
   "execution_count": 1,
   "metadata": {},
   "outputs": [
    {
     "ename": "SystemExit",
     "evalue": "0",
     "output_type": "error",
     "traceback": [
      "An exception has occurred, use %tb to see the full traceback.\n",
      "\u001b[1;31mSystemExit\u001b[0m\u001b[1;31m:\u001b[0m 0\n"
     ]
    },
    {
     "name": "stderr",
     "output_type": "stream",
     "text": [
      "c:\\Users\\84799\\AppData\\Local\\Programs\\Python\\Python311\\Lib\\site-packages\\IPython\\core\\interactiveshell.py:3534: UserWarning: To exit: use 'exit', 'quit', or Ctrl-D.\n",
      "  warn(\"To exit: use 'exit', 'quit', or Ctrl-D.\", stacklevel=1)\n"
     ]
    }
   ],
   "source": [
    "import sys\n",
    "from PyQt5.QtWidgets import QApplication, QWidget, QVBoxLayout, QLabel, QLineEdit, QPushButton, QMessageBox\n",
    "from PyQt5.QtCore import QTimer\n",
    "\n",
    "\n",
    "class UserManagementApp(QWidget):\n",
    "    def __init__(self):\n",
    "        super().__init__()\n",
    "\n",
    "        # Thời gian sử dụng tối đa (đơn vị: giây)\n",
    "        self.max_usage_time = 10  # Ví dụ: 300 giây (5 phút)\n",
    "\n",
    "        # Biến đếm thời gian sử dụng\n",
    "        self.usage_timer = QTimer(self)\n",
    "        self.usage_timer.timeout.connect(self.handle_timeout)\n",
    "\n",
    "        # Giao diện người dùng\n",
    "        self.init_ui()\n",
    "\n",
    "    def init_ui(self):\n",
    "        self.setWindowTitle('User Management App')\n",
    "        self.setGeometry(300, 300, 400, 200)\n",
    "\n",
    "        layout = QVBoxLayout()\n",
    "\n",
    "        self.username_label = QLabel('Username:')\n",
    "        self.username_input = QLineEdit(self)\n",
    "        self.password_label = QLabel('Password:')\n",
    "        self.password_input = QLineEdit(self)\n",
    "        self.password_input.setEchoMode(QLineEdit.Password)\n",
    "\n",
    "        self.login_button = QPushButton('Login', self)\n",
    "        self.login_button.clicked.connect(self.login)\n",
    "\n",
    "        layout.addWidget(self.username_label)\n",
    "        layout.addWidget(self.username_input)\n",
    "        layout.addWidget(self.password_label)\n",
    "        layout.addWidget(self.password_input)\n",
    "        layout.addWidget(self.login_button)\n",
    "\n",
    "        self.setLayout(layout)\n",
    "\n",
    "        self.show()\n",
    "\n",
    "    def login(self):\n",
    "        # Gửi yêu cầu đăng nhập đến backend (cần triển khai)\n",
    "        username = self.username_input.text()\n",
    "        password = self.password_input.text()\n",
    "\n",
    "        # Kiểm tra thông tin đăng nhập ở phía backend\n",
    "        # (Chưa được triển khai ở đây)\n",
    "        \n",
    "        # Nếu thông tin đăng nhập hợp lệ, bắt đầu đếm thời gian sử dụng\n",
    "        self.start_usage_timer()\n",
    "\n",
    "    def start_usage_timer(self):\n",
    "        self.usage_timer.start(1000)  # Bắt đầu đếm thời gian (1 giây một lần)\n",
    "\n",
    "    def handle_timeout(self):\n",
    "        self.max_usage_time -= 1\n",
    "\n",
    "        if self.max_usage_time <= 0:\n",
    "            self.lock_screen()\n",
    "\n",
    "    def lock_screen(self):\n",
    "        self.usage_timer.stop()\n",
    "\n",
    "        # Hiển thị màn hình khóa (có thể triển khai theo mong muốn)\n",
    "        QMessageBox.warning(self, 'Time Limit Exceeded', 'Your usage time has expired. Please login again.')\n",
    "\n",
    "        # Đặt lại thời gian sử dụng\n",
    "        self.max_usage_time = 300  # Ví dụ: 300 giây (5 phút)\n",
    "        self.username_input.clear()\n",
    "        self.password_input.clear()\n",
    "\n",
    "\n",
    "if __name__ == '__main__':\n",
    "    app = QApplication(sys.argv)\n",
    "    ex = UserManagementApp()\n",
    "    sys.exit(app.exec_())\n"
   ]
  },
  {
   "cell_type": "code",
   "execution_count": 1,
   "metadata": {},
   "outputs": [],
   "source": [
    "from PyQt5.QtWidgets import QApplication, QWidget, QVBoxLayout, QLabel, QLineEdit, QPushButton, QMessageBox\n",
    "from PyQt5.QtCore import Qt\n",
    "\n",
    "\n",
    "class LockScreen(QWidget):\n",
    "    def __init__(self, parent=None):\n",
    "        super().__init__(parent, flags=Qt.WindowStaysOnTopHint)\n",
    "\n",
    "        self.password = \"secure_password\"  # Mật khẩu để mở khóa\n",
    "\n",
    "        layout = QVBoxLayout()\n",
    "\n",
    "        self.password_label = QLabel('Enter Password:')\n",
    "        self.password_input = QLineEdit(self)\n",
    "        self.password_input.setEchoMode(QLineEdit.Password)\n",
    "\n",
    "        self.unlock_button = QPushButton('Unlock', self)\n",
    "        self.unlock_button.clicked.connect(self.unlock)\n",
    "\n",
    "        layout.addWidget(self.password_label)\n",
    "        layout.addWidget(self.password_input)\n",
    "        layout.addWidget(self.unlock_button)\n",
    "\n",
    "        self.setLayout(layout)\n",
    "\n",
    "    def unlock(self):\n",
    "        entered_password = self.password_input.text()\n",
    "\n",
    "        if entered_password == self.password:\n",
    "            self.accept()  # Đóng cửa sổ khóa màn hình nếu mật khẩu đúng\n",
    "        else:\n",
    "            QMessageBox.warning(self, 'Incorrect Password', 'Incorrect password. Please try again.')\n",
    "\n",
    "\n",
    "if __name__ == '__main__':\n",
    "    app = QApplication([])\n",
    "\n",
    "    lock_screen = LockScreen()\n",
    "    lock_screen.show()\n",
    "\n",
    "    app.exec_()\n"
   ]
  },
  {
   "cell_type": "code",
   "execution_count": 2,
   "metadata": {},
   "outputs": [
    {
     "ename": "",
     "evalue": "",
     "output_type": "error",
     "traceback": [
      "\u001b[1;31mThe Kernel crashed while executing code in the the current cell or a previous cell. Please review the code in the cell(s) to identify a possible cause of the failure. Click <a href='https://aka.ms/vscodeJupyterKernelCrash'>here</a> for more info. View Jupyter <a href='command:jupyter.viewOutput'>log</a> for further details."
     ]
    }
   ],
   "source": [
    "from PyQt5.QtWidgets import QApplication, QWidget, QVBoxLayout, QLabel, QLineEdit, QPushButton, QMessageBox\n",
    "from PyQt5.QtCore import Qt\n",
    "\n",
    "\n",
    "class LockScreen(QWidget):\n",
    "    def __init__(self, parent=None):\n",
    "        super().__init__(parent, flags=Qt.WindowStaysOnTopHint)\n",
    "\n",
    "        self.password = \"secure_password\"  # Mật khẩu để mở khóa\n",
    "\n",
    "        layout = QVBoxLayout()\n",
    "\n",
    "        self.password_label = QLabel('Enter Password:')\n",
    "        self.password_input = QLineEdit(self)\n",
    "        self.password_input.setEchoMode(QLineEdit.Password)\n",
    "\n",
    "        self.unlock_button = QPushButton('Unlock', self)\n",
    "        self.unlock_button.clicked.connect(self.unlock)\n",
    "\n",
    "        layout.addWidget(self.password_label)\n",
    "        layout.addWidget(self.password_input)\n",
    "        layout.addWidget(self.unlock_button)\n",
    "\n",
    "        self.setLayout(layout)\n",
    "\n",
    "        # Đặt chế độ ApplicationModal để khóa toàn bộ ứng dụng\n",
    "        self.setWindowModality(Qt.ApplicationModal)\n",
    "\n",
    "    def unlock(self):\n",
    "        entered_password = self.password_input.text()\n",
    "\n",
    "        if entered_password == self.password:\n",
    "            self.accept()  # Đóng cửa sổ khóa màn hình nếu mật khẩu đúng\n",
    "        else:\n",
    "            QMessageBox.warning(self, 'Incorrect Password', 'Incorrect password. Please try again.')\n",
    "\n",
    "\n",
    "if __name__ == '__main__':\n",
    "    app = QApplication([])\n",
    "\n",
    "    lock_screen = LockScreen()\n",
    "    lock_screen.show()\n",
    "\n",
    "    app.exec_()\n"
   ]
  },
  {
   "cell_type": "code",
   "execution_count": 1,
   "metadata": {},
   "outputs": [
    {
     "ename": "AttributeError",
     "evalue": "'QDesktopWidget' object has no attribute 'screenInfo'",
     "output_type": "error",
     "traceback": [
      "\u001b[1;31m---------------------------------------------------------------------------\u001b[0m",
      "\u001b[1;31mAttributeError\u001b[0m                            Traceback (most recent call last)",
      "\u001b[1;32md:\\CODE\\Python\\test.ipynb Cell 5\u001b[0m line \u001b[0;36m5\n\u001b[0;32m     <a href='vscode-notebook-cell:/d%3A/CODE/Python/test.ipynb#W4sZmlsZQ%3D%3D?line=50'>51</a>\u001b[0m     sys\u001b[39m.\u001b[39mexit(app\u001b[39m.\u001b[39mexec_())\n\u001b[0;32m     <a href='vscode-notebook-cell:/d%3A/CODE/Python/test.ipynb#W4sZmlsZQ%3D%3D?line=52'>53</a>\u001b[0m \u001b[39mif\u001b[39;00m \u001b[39m__name__\u001b[39m \u001b[39m==\u001b[39m \u001b[39m'\u001b[39m\u001b[39m__main__\u001b[39m\u001b[39m'\u001b[39m:\n\u001b[1;32m---> <a href='vscode-notebook-cell:/d%3A/CODE/Python/test.ipynb#W4sZmlsZQ%3D%3D?line=53'>54</a>\u001b[0m     show_lock_screen()\n",
      "\u001b[1;32md:\\CODE\\Python\\test.ipynb Cell 5\u001b[0m line \u001b[0;36m4\n\u001b[0;32m     <a href='vscode-notebook-cell:/d%3A/CODE/Python/test.ipynb#W4sZmlsZQ%3D%3D?line=46'>47</a>\u001b[0m \u001b[39mdef\u001b[39;00m \u001b[39mshow_lock_screen\u001b[39m():\n\u001b[0;32m     <a href='vscode-notebook-cell:/d%3A/CODE/Python/test.ipynb#W4sZmlsZQ%3D%3D?line=47'>48</a>\u001b[0m     app \u001b[39m=\u001b[39m QApplication(sys\u001b[39m.\u001b[39margv)\n\u001b[1;32m---> <a href='vscode-notebook-cell:/d%3A/CODE/Python/test.ipynb#W4sZmlsZQ%3D%3D?line=48'>49</a>\u001b[0m     lock_screen \u001b[39m=\u001b[39m LockScreen()\n\u001b[0;32m     <a href='vscode-notebook-cell:/d%3A/CODE/Python/test.ipynb#W4sZmlsZQ%3D%3D?line=49'>50</a>\u001b[0m     lock_screen\u001b[39m.\u001b[39mshow()\n\u001b[0;32m     <a href='vscode-notebook-cell:/d%3A/CODE/Python/test.ipynb#W4sZmlsZQ%3D%3D?line=50'>51</a>\u001b[0m     sys\u001b[39m.\u001b[39mexit(app\u001b[39m.\u001b[39mexec_())\n",
      "\u001b[1;32md:\\CODE\\Python\\test.ipynb Cell 5\u001b[0m line \u001b[0;36m2\n\u001b[0;32m     <a href='vscode-notebook-cell:/d%3A/CODE/Python/test.ipynb#W4sZmlsZQ%3D%3D?line=23'>24</a>\u001b[0m \u001b[39mself\u001b[39m\u001b[39m.\u001b[39msetLayout(layout)\n\u001b[0;32m     <a href='vscode-notebook-cell:/d%3A/CODE/Python/test.ipynb#W4sZmlsZQ%3D%3D?line=25'>26</a>\u001b[0m \u001b[39m# Lấy thông tin về tất cả các màn hình\u001b[39;00m\n\u001b[1;32m---> <a href='vscode-notebook-cell:/d%3A/CODE/Python/test.ipynb#W4sZmlsZQ%3D%3D?line=26'>27</a>\u001b[0m screen_info \u001b[39m=\u001b[39m QDesktopWidget()\u001b[39m.\u001b[39;49mscreenInfo()\n\u001b[0;32m     <a href='vscode-notebook-cell:/d%3A/CODE/Python/test.ipynb#W4sZmlsZQ%3D%3D?line=28'>29</a>\u001b[0m \u001b[39m# Tính toán kích thước tổng cộng của tất cả màn hình\u001b[39;00m\n\u001b[0;32m     <a href='vscode-notebook-cell:/d%3A/CODE/Python/test.ipynb#W4sZmlsZQ%3D%3D?line=29'>30</a>\u001b[0m total_width \u001b[39m=\u001b[39m \u001b[39msum\u001b[39m([screen\u001b[39m.\u001b[39mwidth() \u001b[39mfor\u001b[39;00m screen \u001b[39min\u001b[39;00m screen_info])\n",
      "\u001b[1;31mAttributeError\u001b[0m: 'QDesktopWidget' object has no attribute 'screenInfo'"
     ]
    }
   ],
   "source": [
    "import sys\n",
    "from PyQt5.QtWidgets import QApplication, QWidget, QVBoxLayout, QLabel, QLineEdit, QPushButton, QMessageBox, QDesktopWidget\n",
    "from PyQt5.QtCore import Qt\n",
    "\n",
    "class LockScreen(QWidget):\n",
    "    def __init__(self):\n",
    "        super().__init__()\n",
    "\n",
    "        self.password = \"secure_password\"\n",
    "\n",
    "        layout = QVBoxLayout()\n",
    "\n",
    "        self.password_label = QLabel('Nhập mật khẩu:')\n",
    "        self.password_input = QLineEdit(self)\n",
    "        self.password_input.setEchoMode(QLineEdit.Password)\n",
    "\n",
    "        self.unlock_button = QPushButton('Mở khóa', self)\n",
    "        self.unlock_button.clicked.connect(self.unlock)\n",
    "\n",
    "        layout.addWidget(self.password_label)\n",
    "        layout.addWidget(self.password_input)\n",
    "        layout.addWidget(self.unlock_button)\n",
    "\n",
    "        self.setLayout(layout)\n",
    "\n",
    "        # Lấy thông tin về tất cả các màn hình\n",
    "        screen_info = QDesktopWidget().screenInfo()\n",
    "\n",
    "        # Tính toán kích thước tổng cộng của tất cả màn hình\n",
    "        total_width = sum([screen.width() for screen in screen_info])\n",
    "        total_height = max([screen.height() for screen in screen_info])\n",
    "\n",
    "        # Thiết lập kích thước cửa sổ khóa màn hình\n",
    "        self.setGeometry(0, 0, total_width, total_height)\n",
    "\n",
    "        self.setWindowFlags(Qt.WindowStaysOnTopHint | Qt.Tool | Qt.FramelessWindowHint | Qt.WindowDoesNotAcceptFocus)\n",
    "        self.setAttribute(Qt.WA_ShowWithoutActivating)\n",
    "\n",
    "    def unlock(self):\n",
    "        entered_password = self.password_input.text()\n",
    "\n",
    "        if entered_password == self.password:\n",
    "            self.close()\n",
    "        else:\n",
    "            QMessageBox.warning(self, 'Mật khẩu không đúng', 'Mật khẩu không đúng. Vui lòng thử lại.')\n",
    "\n",
    "def show_lock_screen():\n",
    "    app = QApplication(sys.argv)\n",
    "    lock_screen = LockScreen()\n",
    "    lock_screen.show()\n",
    "    sys.exit(app.exec_())\n",
    "\n",
    "if __name__ == '__main__':\n",
    "    show_lock_screen()\n"
   ]
  },
  {
   "cell_type": "code",
   "execution_count": 2,
   "metadata": {},
   "outputs": [],
   "source": [
    "import sys\n",
    "from PyQt5.QtWidgets import QApplication, QWidget, QVBoxLayout, QLabel, QLineEdit, QPushButton, QMessageBox\n",
    "from PyQt5.QtCore import Qt, QRect\n",
    "\n",
    "class LockScreen(QWidget):\n",
    "    def __init__(self):\n",
    "        super().__init__()\n",
    "\n",
    "        self.password = \"secure_password\"\n",
    "\n",
    "        layout = QVBoxLayout()\n",
    "        # Create labels (widgets) to be placed in the layout\n",
    "        label1 = QLabel(\"Label 1\")\n",
    "        label2 = QLabel(\"Label 2\")\n",
    "\n",
    "        # Add labels to the layout\n",
    "        layout.addWidget(label1)\n",
    "        layout.addWidget(label2)\n",
    "\n",
    "         # Apply styles using CSS to individual widgets\n",
    "        label1.setStyleSheet(\"color: blue; font-size: 20px;\")\n",
    "        label2.setStyleSheet(\"background-color: lightgray; padding: 10px;\")\n",
    "        self.password_label = QLabel('Nhập mật khẩu:')\n",
    "        self.password_input = QLineEdit(self)\n",
    "        self.password_input.setEchoMode(QLineEdit.Password)\n",
    "\n",
    "        self.unlock_button = QPushButton('Mở khóa', self)\n",
    "        self.unlock_button.clicked.connect(self.unlock)\n",
    "\n",
    "        layout.addWidget(self.password_label)\n",
    "        layout.addWidget(self.password_input)\n",
    "        layout.addWidget(self.unlock_button)\n",
    "\n",
    "        self.setLayout(layout)\n",
    "\n",
    "        # Lấy danh sách các màn hình\n",
    "        screen_list = QApplication.screens()\n",
    "\n",
    "        # Tính toán kích thước tổng cộng của tất cả các màn hình\n",
    "        total_rect = QRect()\n",
    "        for screen in screen_list:\n",
    "            total_rect = total_rect.united(screen.geometry())\n",
    "\n",
    "        # Thiết lập kích thước cửa sổ khóa màn hình\n",
    "        self.setGeometry(total_rect)\n",
    "\n",
    "        self.setWindowFlags(Qt.WindowStaysOnTopHint | Qt.Tool | Qt.FramelessWindowHint | Qt.WindowDoesNotAcceptFocus)\n",
    "        self.setAttribute(Qt.WA_ShowWithoutActivating)\n",
    "\n",
    "    def unlock(self):\n",
    "        entered_password = self.password_input.text()\n",
    "\n",
    "        if entered_password == self.password:\n",
    "            self.close()\n",
    "        else:\n",
    "            QMessageBox.warning(self, 'Mật khẩu không đúng', 'Mật khẩu không đúng. Vui lòng thử lại.')\n",
    "\n",
    "def show_lock_screen():\n",
    "    app = QApplication(sys.argv)\n",
    "    lock_screen = LockScreen()\n",
    "    lock_screen.show()\n",
    "    sys.exit(app.exec_())\n",
    "\n",
    "if __name__ == '__main__':\n",
    "    show_lock_screen()\n"
   ]
  },
  {
   "cell_type": "code",
   "execution_count": 1,
   "metadata": {},
   "outputs": [
    {
     "name": "stderr",
     "output_type": "stream",
     "text": [
      "Exception in thread Thread-5 (_start_listen):\n",
      "Traceback (most recent call last):\n",
      "  File \"c:\\Users\\dell\\AppData\\Local\\Programs\\Python\\Python310\\lib\\threading.py\", line 1016, in _bootstrap_inner\n",
      "    self.run()\n",
      "  File \"c:\\Users\\dell\\AppData\\Local\\Programs\\Python\\Python310\\lib\\threading.py\", line 953, in run\n",
      "    self._target(*self._args, **self._kwargs)\n",
      "  File \"c:\\Users\\dell\\AppData\\Local\\Programs\\Python\\Python310\\lib\\site-packages\\firebase_admin\\db.py\", line 128, in _start_listen\n",
      "    self._callback(Event(sse_event))\n",
      "  File \"C:\\Users\\dell\\AppData\\Local\\Temp\\ipykernel_1384\\2361080417.py\", line 35, in handleOpenLock\n",
      "NameError: name 'ui' is not defined. Did you mean: '_i'?\n"
     ]
    },
    {
     "ename": "",
     "evalue": "",
     "output_type": "error",
     "traceback": [
      "\u001b[1;31mThe Kernel crashed while executing code in the the current cell or a previous cell. Please review the code in the cell(s) to identify a possible cause of the failure. Click <a href='https://aka.ms/vscodeJupyterKernelCrash'>here</a> for more info. View Jupyter <a href='command:jupyter.viewOutput'>log</a> for further details."
     ]
    }
   ],
   "source": [
    "import firebase_admin\n",
    "from firebase_admin import credentials, db\n",
    "import time\n",
    "from datetime import datetime\n",
    "from app import LockScreen\n",
    "# Khởi tạo Firebase với tệp tin serviceAccountKey.json của bạn\n",
    "SETUP_PATH='./serviceAccountKey.json'\n",
    "# Kiểm tra xem Firebase app đã được khởi tạo chưa\n",
    "if not firebase_admin._apps:\n",
    "    # Khởi tạo Firebase app nếu chưa tồn tại\n",
    "  cred = credentials.Certificate(SETUP_PATH)\n",
    "  firebase_admin.initialize_app(cred, {'databaseURL': 'https://lockpc-3d140-default-rtdb.asia-southeast1.firebasedatabase.app/'})\n",
    "\n",
    "ref = db.reference('time')\n",
    "isLock=db.reference('open_lock')\n",
    "\n",
    "# Thêm dữ liệu vào database\n",
    "def openPC():\n",
    "    ref = db.reference('lock')\n",
    "    ref.push({\n",
    "       'time':getTime()\n",
    "    })  \n",
    "# Cập nhật dữ liệu theo thời gian thực\n",
    "def real_time_update():\n",
    "    while True:\n",
    "      pass\n",
    "      \n",
    "def handleOpenLock(event):\n",
    "    # time.sleep(5)\n",
    "    global ui\n",
    "    if event.data==True and ui.isVisible()==True:\n",
    "      ui.show()\n",
    "    else:\n",
    "      ui.close()\n",
    "    print(f\"Thay đổi giá trị mới: {event.data}\")\n",
    "\n",
    "isLock.listen(handleOpenLock)\n",
    "\n",
    "def getTime():\n",
    "   # Trích xuất các thành phần thời gian từ đối tượng datetime\n",
    "  current_time = datetime.now()\n",
    "  year = current_time.year\n",
    "  month = current_time.month\n",
    "  day = current_time.day\n",
    "  hour = current_time.hour\n",
    "  minute = current_time.minute\n",
    "  second = current_time.second\n",
    "  return f\"{year}/{month}/{day} {hour}:{minute}:{second}\"\n",
    "# In các thành phần thời gian\n",
    "\n",
    "\n",
    "\n",
    "if __name__ == \"__main__\":\n",
    "    openPC()  # Chạy một lần để khởi tạo dữ liệu\n",
    "    ui=LockScreen()\n",
    "    real_time_update()\n"
   ]
  },
  {
   "cell_type": "code",
   "execution_count": null,
   "metadata": {},
   "outputs": [],
   "source": []
  },
  {
   "cell_type": "code",
   "execution_count": null,
   "metadata": {},
   "outputs": [],
   "source": []
  },
  {
   "cell_type": "code",
   "execution_count": null,
   "metadata": {},
   "outputs": [],
   "source": []
  },
  {
   "cell_type": "code",
   "execution_count": null,
   "metadata": {},
   "outputs": [],
   "source": []
  },
  {
   "cell_type": "code",
   "execution_count": null,
   "metadata": {},
   "outputs": [],
   "source": []
  },
  {
   "cell_type": "code",
   "execution_count": null,
   "metadata": {},
   "outputs": [],
   "source": []
  },
  {
   "cell_type": "code",
   "execution_count": null,
   "metadata": {},
   "outputs": [],
   "source": []
  },
  {
   "cell_type": "code",
   "execution_count": null,
   "metadata": {},
   "outputs": [],
   "source": []
  },
  {
   "cell_type": "code",
   "execution_count": null,
   "metadata": {},
   "outputs": [],
   "source": []
  },
  {
   "cell_type": "code",
   "execution_count": null,
   "metadata": {},
   "outputs": [],
   "source": []
  },
  {
   "cell_type": "code",
   "execution_count": null,
   "metadata": {},
   "outputs": [],
   "source": []
  },
  {
   "cell_type": "code",
   "execution_count": null,
   "metadata": {},
   "outputs": [],
   "source": []
  },
  {
   "cell_type": "code",
   "execution_count": null,
   "metadata": {},
   "outputs": [],
   "source": []
  },
  {
   "cell_type": "code",
   "execution_count": null,
   "metadata": {},
   "outputs": [],
   "source": []
  },
  {
   "cell_type": "code",
   "execution_count": null,
   "metadata": {},
   "outputs": [],
   "source": []
  },
  {
   "cell_type": "code",
   "execution_count": null,
   "metadata": {},
   "outputs": [],
   "source": []
  },
  {
   "cell_type": "code",
   "execution_count": null,
   "metadata": {},
   "outputs": [],
   "source": []
  },
  {
   "cell_type": "code",
   "execution_count": null,
   "metadata": {},
   "outputs": [],
   "source": []
  },
  {
   "cell_type": "code",
   "execution_count": null,
   "metadata": {},
   "outputs": [],
   "source": []
  },
  {
   "cell_type": "code",
   "execution_count": 3,
   "metadata": {},
   "outputs": [
    {
     "data": {
      "text/plain": [
       "1"
      ]
     },
     "execution_count": 3,
     "metadata": {},
     "output_type": "execute_result"
    }
   ],
   "source": [
    "import ctypes\n",
    "ctypes.windll.user32.LockWorkStation()"
   ]
  },
  {
   "cell_type": "code",
   "execution_count": null,
   "metadata": {},
   "outputs": [],
   "source": []
  },
  {
   "cell_type": "code",
   "execution_count": null,
   "metadata": {},
   "outputs": [],
   "source": []
  },
  {
   "cell_type": "code",
   "execution_count": null,
   "metadata": {},
   "outputs": [],
   "source": []
  },
  {
   "cell_type": "code",
   "execution_count": null,
   "metadata": {},
   "outputs": [],
   "source": []
  },
  {
   "cell_type": "code",
   "execution_count": null,
   "metadata": {},
   "outputs": [],
   "source": []
  },
  {
   "cell_type": "code",
   "execution_count": null,
   "metadata": {},
   "outputs": [],
   "source": []
  },
  {
   "cell_type": "code",
   "execution_count": null,
   "metadata": {},
   "outputs": [],
   "source": []
  },
  {
   "cell_type": "code",
   "execution_count": null,
   "metadata": {},
   "outputs": [],
   "source": []
  },
  {
   "cell_type": "code",
   "execution_count": null,
   "metadata": {},
   "outputs": [],
   "source": []
  },
  {
   "cell_type": "code",
   "execution_count": null,
   "metadata": {},
   "outputs": [],
   "source": []
  },
  {
   "cell_type": "code",
   "execution_count": null,
   "metadata": {},
   "outputs": [],
   "source": []
  }
 ],
 "metadata": {
  "kernelspec": {
   "display_name": "Python 3",
   "language": "python",
   "name": "python3"
  },
  "language_info": {
   "codemirror_mode": {
    "name": "ipython",
    "version": 3
   },
   "file_extension": ".py",
   "mimetype": "text/x-python",
   "name": "python",
   "nbconvert_exporter": "python",
   "pygments_lexer": "ipython3",
   "version": "3.10.5"
  },
  "orig_nbformat": 4
 },
 "nbformat": 4,
 "nbformat_minor": 2
}
